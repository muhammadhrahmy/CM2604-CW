{
  "nbformat": 4,
  "nbformat_minor": 0,
  "metadata": {
    "colab": {
      "provenance": []
    },
    "kernelspec": {
      "name": "python3",
      "display_name": "Python 3"
    },
    "language_info": {
      "name": "python"
    }
  },
  "cells": [
    {
      "cell_type": "code",
      "execution_count": 2,
      "metadata": {
        "colab": {
          "base_uri": "https://localhost:8080/"
        },
        "id": "evaxf9TStCQM",
        "outputId": "48f48842-93f0-461c-8ec0-78b547c0c743"
      },
      "outputs": [
        {
          "output_type": "stream",
          "name": "stdout",
          "text": [
            "Collecting ucimlrepo\n",
            "  Downloading ucimlrepo-0.0.6-py3-none-any.whl (8.0 kB)\n",
            "Installing collected packages: ucimlrepo\n",
            "Successfully installed ucimlrepo-0.0.6\n"
          ]
        }
      ],
      "source": [
        "pip install ucimlrepo"
      ]
    },
    {
      "cell_type": "code",
      "source": [
        "from ucimlrepo import fetch_ucirepo\n",
        "import pandas as pd\n",
        "import numpy as np\n",
        "import matplotlib.pyplot as plt\n",
        "import seaborn as sns\n",
        "import pandas as pd"
      ],
      "metadata": {
        "id": "-t7bVvH80aF-"
      },
      "execution_count": 3,
      "outputs": []
    },
    {
      "cell_type": "code",
      "source": [
        "# fetch dataset\n",
        "adult = fetch_ucirepo(id=2)\n",
        "\n",
        "# data (as pandas dataframes)\n",
        "X = adult.data.features\n",
        "y = adult.data.targets"
      ],
      "metadata": {
        "id": "5FDd3B-TtFQr"
      },
      "execution_count": null,
      "outputs": []
    },
    {
      "cell_type": "code",
      "source": [
        "# Let's concatenate X and y along columns\n",
        "df = pd.concat([X, y], axis=1)"
      ],
      "metadata": {
        "id": "XgtCVI5Au8k_"
      },
      "execution_count": null,
      "outputs": []
    },
    {
      "cell_type": "code",
      "source": [
        "df.info()"
      ],
      "metadata": {
        "colab": {
          "base_uri": "https://localhost:8080/"
        },
        "id": "DmBa9TnDzmCQ",
        "outputId": "48abfc40-bd8d-4e2d-9ef4-29a8b1a1621d"
      },
      "execution_count": null,
      "outputs": [
        {
          "output_type": "stream",
          "name": "stdout",
          "text": [
            "<class 'pandas.core.frame.DataFrame'>\n",
            "RangeIndex: 45222 entries, 0 to 45221\n",
            "Data columns (total 15 columns):\n",
            " #   Column          Non-Null Count  Dtype \n",
            "---  ------          --------------  ----- \n",
            " 0   age             45222 non-null  int64 \n",
            " 1   workclass       45222 non-null  object\n",
            " 2   fnlwgt          45222 non-null  int64 \n",
            " 3   education       45222 non-null  object\n",
            " 4   education-num   45222 non-null  int64 \n",
            " 5   marital-status  45222 non-null  object\n",
            " 6   occupation      45222 non-null  object\n",
            " 7   relationship    45222 non-null  object\n",
            " 8   race            45222 non-null  object\n",
            " 9   sex             45222 non-null  object\n",
            " 10  capital-gain    45222 non-null  int64 \n",
            " 11  capital-loss    45222 non-null  int64 \n",
            " 12  hours-per-week  45222 non-null  int64 \n",
            " 13  native-country  45222 non-null  object\n",
            " 14  income          45222 non-null  object\n",
            "dtypes: int64(6), object(9)\n",
            "memory usage: 5.2+ MB\n"
          ]
        }
      ]
    },
    {
      "cell_type": "code",
      "source": [
        "df.describe()"
      ],
      "metadata": {
        "colab": {
          "base_uri": "https://localhost:8080/",
          "height": 300
        },
        "id": "13S5PlxetL1P",
        "outputId": "6e354d2d-11ee-40fb-b319-97f352aaae23"
      },
      "execution_count": null,
      "outputs": [
        {
          "output_type": "execute_result",
          "data": {
            "text/plain": [
              "                age        fnlwgt  education-num  capital-gain  capital-loss  \\\n",
              "count  48842.000000  4.884200e+04   48842.000000  48842.000000  48842.000000   \n",
              "mean      38.643585  1.896641e+05      10.078089   1079.067626     87.502314   \n",
              "std       13.710510  1.056040e+05       2.570973   7452.019058    403.004552   \n",
              "min       17.000000  1.228500e+04       1.000000      0.000000      0.000000   \n",
              "25%       28.000000  1.175505e+05       9.000000      0.000000      0.000000   \n",
              "50%       37.000000  1.781445e+05      10.000000      0.000000      0.000000   \n",
              "75%       48.000000  2.376420e+05      12.000000      0.000000      0.000000   \n",
              "max       90.000000  1.490400e+06      16.000000  99999.000000   4356.000000   \n",
              "\n",
              "       hours-per-week  \n",
              "count    48842.000000  \n",
              "mean        40.422382  \n",
              "std         12.391444  \n",
              "min          1.000000  \n",
              "25%         40.000000  \n",
              "50%         40.000000  \n",
              "75%         45.000000  \n",
              "max         99.000000  "
            ],
            "text/html": [
              "\n",
              "  <div id=\"df-64dd43a0-8b1d-45bb-8f84-0f8355f5be85\" class=\"colab-df-container\">\n",
              "    <div>\n",
              "<style scoped>\n",
              "    .dataframe tbody tr th:only-of-type {\n",
              "        vertical-align: middle;\n",
              "    }\n",
              "\n",
              "    .dataframe tbody tr th {\n",
              "        vertical-align: top;\n",
              "    }\n",
              "\n",
              "    .dataframe thead th {\n",
              "        text-align: right;\n",
              "    }\n",
              "</style>\n",
              "<table border=\"1\" class=\"dataframe\">\n",
              "  <thead>\n",
              "    <tr style=\"text-align: right;\">\n",
              "      <th></th>\n",
              "      <th>age</th>\n",
              "      <th>fnlwgt</th>\n",
              "      <th>education-num</th>\n",
              "      <th>capital-gain</th>\n",
              "      <th>capital-loss</th>\n",
              "      <th>hours-per-week</th>\n",
              "    </tr>\n",
              "  </thead>\n",
              "  <tbody>\n",
              "    <tr>\n",
              "      <th>count</th>\n",
              "      <td>48842.000000</td>\n",
              "      <td>4.884200e+04</td>\n",
              "      <td>48842.000000</td>\n",
              "      <td>48842.000000</td>\n",
              "      <td>48842.000000</td>\n",
              "      <td>48842.000000</td>\n",
              "    </tr>\n",
              "    <tr>\n",
              "      <th>mean</th>\n",
              "      <td>38.643585</td>\n",
              "      <td>1.896641e+05</td>\n",
              "      <td>10.078089</td>\n",
              "      <td>1079.067626</td>\n",
              "      <td>87.502314</td>\n",
              "      <td>40.422382</td>\n",
              "    </tr>\n",
              "    <tr>\n",
              "      <th>std</th>\n",
              "      <td>13.710510</td>\n",
              "      <td>1.056040e+05</td>\n",
              "      <td>2.570973</td>\n",
              "      <td>7452.019058</td>\n",
              "      <td>403.004552</td>\n",
              "      <td>12.391444</td>\n",
              "    </tr>\n",
              "    <tr>\n",
              "      <th>min</th>\n",
              "      <td>17.000000</td>\n",
              "      <td>1.228500e+04</td>\n",
              "      <td>1.000000</td>\n",
              "      <td>0.000000</td>\n",
              "      <td>0.000000</td>\n",
              "      <td>1.000000</td>\n",
              "    </tr>\n",
              "    <tr>\n",
              "      <th>25%</th>\n",
              "      <td>28.000000</td>\n",
              "      <td>1.175505e+05</td>\n",
              "      <td>9.000000</td>\n",
              "      <td>0.000000</td>\n",
              "      <td>0.000000</td>\n",
              "      <td>40.000000</td>\n",
              "    </tr>\n",
              "    <tr>\n",
              "      <th>50%</th>\n",
              "      <td>37.000000</td>\n",
              "      <td>1.781445e+05</td>\n",
              "      <td>10.000000</td>\n",
              "      <td>0.000000</td>\n",
              "      <td>0.000000</td>\n",
              "      <td>40.000000</td>\n",
              "    </tr>\n",
              "    <tr>\n",
              "      <th>75%</th>\n",
              "      <td>48.000000</td>\n",
              "      <td>2.376420e+05</td>\n",
              "      <td>12.000000</td>\n",
              "      <td>0.000000</td>\n",
              "      <td>0.000000</td>\n",
              "      <td>45.000000</td>\n",
              "    </tr>\n",
              "    <tr>\n",
              "      <th>max</th>\n",
              "      <td>90.000000</td>\n",
              "      <td>1.490400e+06</td>\n",
              "      <td>16.000000</td>\n",
              "      <td>99999.000000</td>\n",
              "      <td>4356.000000</td>\n",
              "      <td>99.000000</td>\n",
              "    </tr>\n",
              "  </tbody>\n",
              "</table>\n",
              "</div>\n",
              "    <div class=\"colab-df-buttons\">\n",
              "\n",
              "  <div class=\"colab-df-container\">\n",
              "    <button class=\"colab-df-convert\" onclick=\"convertToInteractive('df-64dd43a0-8b1d-45bb-8f84-0f8355f5be85')\"\n",
              "            title=\"Convert this dataframe to an interactive table.\"\n",
              "            style=\"display:none;\">\n",
              "\n",
              "  <svg xmlns=\"http://www.w3.org/2000/svg\" height=\"24px\" viewBox=\"0 -960 960 960\">\n",
              "    <path d=\"M120-120v-720h720v720H120Zm60-500h600v-160H180v160Zm220 220h160v-160H400v160Zm0 220h160v-160H400v160ZM180-400h160v-160H180v160Zm440 0h160v-160H620v160ZM180-180h160v-160H180v160Zm440 0h160v-160H620v160Z\"/>\n",
              "  </svg>\n",
              "    </button>\n",
              "\n",
              "  <style>\n",
              "    .colab-df-container {\n",
              "      display:flex;\n",
              "      gap: 12px;\n",
              "    }\n",
              "\n",
              "    .colab-df-convert {\n",
              "      background-color: #E8F0FE;\n",
              "      border: none;\n",
              "      border-radius: 50%;\n",
              "      cursor: pointer;\n",
              "      display: none;\n",
              "      fill: #1967D2;\n",
              "      height: 32px;\n",
              "      padding: 0 0 0 0;\n",
              "      width: 32px;\n",
              "    }\n",
              "\n",
              "    .colab-df-convert:hover {\n",
              "      background-color: #E2EBFA;\n",
              "      box-shadow: 0px 1px 2px rgba(60, 64, 67, 0.3), 0px 1px 3px 1px rgba(60, 64, 67, 0.15);\n",
              "      fill: #174EA6;\n",
              "    }\n",
              "\n",
              "    .colab-df-buttons div {\n",
              "      margin-bottom: 4px;\n",
              "    }\n",
              "\n",
              "    [theme=dark] .colab-df-convert {\n",
              "      background-color: #3B4455;\n",
              "      fill: #D2E3FC;\n",
              "    }\n",
              "\n",
              "    [theme=dark] .colab-df-convert:hover {\n",
              "      background-color: #434B5C;\n",
              "      box-shadow: 0px 1px 3px 1px rgba(0, 0, 0, 0.15);\n",
              "      filter: drop-shadow(0px 1px 2px rgba(0, 0, 0, 0.3));\n",
              "      fill: #FFFFFF;\n",
              "    }\n",
              "  </style>\n",
              "\n",
              "    <script>\n",
              "      const buttonEl =\n",
              "        document.querySelector('#df-64dd43a0-8b1d-45bb-8f84-0f8355f5be85 button.colab-df-convert');\n",
              "      buttonEl.style.display =\n",
              "        google.colab.kernel.accessAllowed ? 'block' : 'none';\n",
              "\n",
              "      async function convertToInteractive(key) {\n",
              "        const element = document.querySelector('#df-64dd43a0-8b1d-45bb-8f84-0f8355f5be85');\n",
              "        const dataTable =\n",
              "          await google.colab.kernel.invokeFunction('convertToInteractive',\n",
              "                                                    [key], {});\n",
              "        if (!dataTable) return;\n",
              "\n",
              "        const docLinkHtml = 'Like what you see? Visit the ' +\n",
              "          '<a target=\"_blank\" href=https://colab.research.google.com/notebooks/data_table.ipynb>data table notebook</a>'\n",
              "          + ' to learn more about interactive tables.';\n",
              "        element.innerHTML = '';\n",
              "        dataTable['output_type'] = 'display_data';\n",
              "        await google.colab.output.renderOutput(dataTable, element);\n",
              "        const docLink = document.createElement('div');\n",
              "        docLink.innerHTML = docLinkHtml;\n",
              "        element.appendChild(docLink);\n",
              "      }\n",
              "    </script>\n",
              "  </div>\n",
              "\n",
              "\n",
              "<div id=\"df-c2454774-296f-4044-aaad-6a0ba04c4aa0\">\n",
              "  <button class=\"colab-df-quickchart\" onclick=\"quickchart('df-c2454774-296f-4044-aaad-6a0ba04c4aa0')\"\n",
              "            title=\"Suggest charts\"\n",
              "            style=\"display:none;\">\n",
              "\n",
              "<svg xmlns=\"http://www.w3.org/2000/svg\" height=\"24px\"viewBox=\"0 0 24 24\"\n",
              "     width=\"24px\">\n",
              "    <g>\n",
              "        <path d=\"M19 3H5c-1.1 0-2 .9-2 2v14c0 1.1.9 2 2 2h14c1.1 0 2-.9 2-2V5c0-1.1-.9-2-2-2zM9 17H7v-7h2v7zm4 0h-2V7h2v10zm4 0h-2v-4h2v4z\"/>\n",
              "    </g>\n",
              "</svg>\n",
              "  </button>\n",
              "\n",
              "<style>\n",
              "  .colab-df-quickchart {\n",
              "      --bg-color: #E8F0FE;\n",
              "      --fill-color: #1967D2;\n",
              "      --hover-bg-color: #E2EBFA;\n",
              "      --hover-fill-color: #174EA6;\n",
              "      --disabled-fill-color: #AAA;\n",
              "      --disabled-bg-color: #DDD;\n",
              "  }\n",
              "\n",
              "  [theme=dark] .colab-df-quickchart {\n",
              "      --bg-color: #3B4455;\n",
              "      --fill-color: #D2E3FC;\n",
              "      --hover-bg-color: #434B5C;\n",
              "      --hover-fill-color: #FFFFFF;\n",
              "      --disabled-bg-color: #3B4455;\n",
              "      --disabled-fill-color: #666;\n",
              "  }\n",
              "\n",
              "  .colab-df-quickchart {\n",
              "    background-color: var(--bg-color);\n",
              "    border: none;\n",
              "    border-radius: 50%;\n",
              "    cursor: pointer;\n",
              "    display: none;\n",
              "    fill: var(--fill-color);\n",
              "    height: 32px;\n",
              "    padding: 0;\n",
              "    width: 32px;\n",
              "  }\n",
              "\n",
              "  .colab-df-quickchart:hover {\n",
              "    background-color: var(--hover-bg-color);\n",
              "    box-shadow: 0 1px 2px rgba(60, 64, 67, 0.3), 0 1px 3px 1px rgba(60, 64, 67, 0.15);\n",
              "    fill: var(--button-hover-fill-color);\n",
              "  }\n",
              "\n",
              "  .colab-df-quickchart-complete:disabled,\n",
              "  .colab-df-quickchart-complete:disabled:hover {\n",
              "    background-color: var(--disabled-bg-color);\n",
              "    fill: var(--disabled-fill-color);\n",
              "    box-shadow: none;\n",
              "  }\n",
              "\n",
              "  .colab-df-spinner {\n",
              "    border: 2px solid var(--fill-color);\n",
              "    border-color: transparent;\n",
              "    border-bottom-color: var(--fill-color);\n",
              "    animation:\n",
              "      spin 1s steps(1) infinite;\n",
              "  }\n",
              "\n",
              "  @keyframes spin {\n",
              "    0% {\n",
              "      border-color: transparent;\n",
              "      border-bottom-color: var(--fill-color);\n",
              "      border-left-color: var(--fill-color);\n",
              "    }\n",
              "    20% {\n",
              "      border-color: transparent;\n",
              "      border-left-color: var(--fill-color);\n",
              "      border-top-color: var(--fill-color);\n",
              "    }\n",
              "    30% {\n",
              "      border-color: transparent;\n",
              "      border-left-color: var(--fill-color);\n",
              "      border-top-color: var(--fill-color);\n",
              "      border-right-color: var(--fill-color);\n",
              "    }\n",
              "    40% {\n",
              "      border-color: transparent;\n",
              "      border-right-color: var(--fill-color);\n",
              "      border-top-color: var(--fill-color);\n",
              "    }\n",
              "    60% {\n",
              "      border-color: transparent;\n",
              "      border-right-color: var(--fill-color);\n",
              "    }\n",
              "    80% {\n",
              "      border-color: transparent;\n",
              "      border-right-color: var(--fill-color);\n",
              "      border-bottom-color: var(--fill-color);\n",
              "    }\n",
              "    90% {\n",
              "      border-color: transparent;\n",
              "      border-bottom-color: var(--fill-color);\n",
              "    }\n",
              "  }\n",
              "</style>\n",
              "\n",
              "  <script>\n",
              "    async function quickchart(key) {\n",
              "      const quickchartButtonEl =\n",
              "        document.querySelector('#' + key + ' button');\n",
              "      quickchartButtonEl.disabled = true;  // To prevent multiple clicks.\n",
              "      quickchartButtonEl.classList.add('colab-df-spinner');\n",
              "      try {\n",
              "        const charts = await google.colab.kernel.invokeFunction(\n",
              "            'suggestCharts', [key], {});\n",
              "      } catch (error) {\n",
              "        console.error('Error during call to suggestCharts:', error);\n",
              "      }\n",
              "      quickchartButtonEl.classList.remove('colab-df-spinner');\n",
              "      quickchartButtonEl.classList.add('colab-df-quickchart-complete');\n",
              "    }\n",
              "    (() => {\n",
              "      let quickchartButtonEl =\n",
              "        document.querySelector('#df-c2454774-296f-4044-aaad-6a0ba04c4aa0 button');\n",
              "      quickchartButtonEl.style.display =\n",
              "        google.colab.kernel.accessAllowed ? 'block' : 'none';\n",
              "    })();\n",
              "  </script>\n",
              "</div>\n",
              "    </div>\n",
              "  </div>\n"
            ],
            "application/vnd.google.colaboratory.intrinsic+json": {
              "type": "dataframe",
              "summary": "{\n  \"name\": \"df\",\n  \"rows\": 8,\n  \"fields\": [\n    {\n      \"column\": \"age\",\n      \"properties\": {\n        \"dtype\": \"number\",\n        \"std\": 17254.515015865374,\n        \"min\": 13.710509934443555,\n        \"max\": 48842.0,\n        \"num_unique_values\": 8,\n        \"samples\": [\n          38.64358543876172,\n          37.0,\n          48842.0\n        ],\n        \"semantic_type\": \"\",\n        \"description\": \"\"\n      }\n    },\n    {\n      \"column\": \"fnlwgt\",\n      \"properties\": {\n        \"dtype\": \"number\",\n        \"std\": 487684.321495278,\n        \"min\": 12285.0,\n        \"max\": 1490400.0,\n        \"num_unique_values\": 8,\n        \"samples\": [\n          189664.13459727284,\n          178144.5,\n          48842.0\n        ],\n        \"semantic_type\": \"\",\n        \"description\": \"\"\n      }\n    },\n    {\n      \"column\": \"education-num\",\n      \"properties\": {\n        \"dtype\": \"number\",\n        \"std\": 17265.19214458616,\n        \"min\": 1.0,\n        \"max\": 48842.0,\n        \"num_unique_values\": 8,\n        \"samples\": [\n          10.078088530363212,\n          10.0,\n          48842.0\n        ],\n        \"semantic_type\": \"\",\n        \"description\": \"\"\n      }\n    },\n    {\n      \"column\": \"capital-gain\",\n      \"properties\": {\n        \"dtype\": \"number\",\n        \"std\": 36540.175993736855,\n        \"min\": 0.0,\n        \"max\": 99999.0,\n        \"num_unique_values\": 5,\n        \"samples\": [\n          1079.0676262233324,\n          99999.0,\n          7452.019057655394\n        ],\n        \"semantic_type\": \"\",\n        \"description\": \"\"\n      }\n    },\n    {\n      \"column\": \"capital-loss\",\n      \"properties\": {\n        \"dtype\": \"number\",\n        \"std\": 17089.590809028763,\n        \"min\": 0.0,\n        \"max\": 48842.0,\n        \"num_unique_values\": 5,\n        \"samples\": [\n          87.50231358257237,\n          4356.0,\n          403.00455212435907\n        ],\n        \"semantic_type\": \"\",\n        \"description\": \"\"\n      }\n    },\n    {\n      \"column\": \"hours-per-week\",\n      \"properties\": {\n        \"dtype\": \"number\",\n        \"std\": 17254.246950179113,\n        \"min\": 1.0,\n        \"max\": 48842.0,\n        \"num_unique_values\": 7,\n        \"samples\": [\n          48842.0,\n          40.422382375824085,\n          45.0\n        ],\n        \"semantic_type\": \"\",\n        \"description\": \"\"\n      }\n    }\n  ]\n}"
            }
          },
          "metadata": {},
          "execution_count": 6
        }
      ]
    },
    {
      "cell_type": "code",
      "source": [
        "# Replace \"?\" with NaNs\n",
        "df.replace(\"?\", np.nan, inplace=True)\n",
        "\n",
        "# Treat empty data as NaNs\n",
        "df.replace(\"\", np.nan, inplace=True)\n",
        "\n",
        "# Remove rows with NaN values\n",
        "df.dropna(axis=0, inplace=True)\n",
        "\n",
        "# Reset index after dropping rows\n",
        "df.reset_index(drop=True, inplace=True)"
      ],
      "metadata": {
        "id": "PCWIkQplxDEK"
      },
      "execution_count": null,
      "outputs": []
    },
    {
      "cell_type": "code",
      "source": [
        "# Iterate over each column in the DataFrame\n",
        "for column in df.columns:\n",
        "    # Print the column name\n",
        "    print(column + \":\", df[column].unique())"
      ],
      "metadata": {
        "colab": {
          "base_uri": "https://localhost:8080/"
        },
        "id": "YvzuEXCczgNr",
        "outputId": "a3a9b9fe-a2c3-4ea7-d8b6-daa84c6b997a"
      },
      "execution_count": null,
      "outputs": [
        {
          "output_type": "stream",
          "name": "stdout",
          "text": [
            "age: [39 50 38 53 28 37 49 52 31 42 30 23 32 34 25 43 40 54 35 59 56 19 20 45\n",
            " 22 48 21 24 57 44 41 29 47 46 36 79 27 18 33 76 55 61 70 64 71 66 51 58\n",
            " 26 17 60 90 75 65 77 62 63 67 74 72 69 68 73 81 78 88 80 84 83 85 82 86\n",
            " 89 87]\n",
            "workclass: ['State-gov' 'Self-emp-not-inc' 'Private' 'Federal-gov' 'Local-gov'\n",
            " 'Self-emp-inc' 'Without-pay']\n",
            "fnlwgt: [ 77516  83311 215646 ... 173449  89686 350977]\n",
            "education: ['Bachelors' 'HS-grad' '11th' 'Masters' '9th' 'Some-college' 'Assoc-acdm'\n",
            " '7th-8th' 'Doctorate' 'Assoc-voc' 'Prof-school' '5th-6th' '10th'\n",
            " 'Preschool' '12th' '1st-4th']\n",
            "education-num: [13  9  7 14  5 10 12  4 16 11 15  3  6  1  8  2]\n",
            "marital-status: ['Never-married' 'Married-civ-spouse' 'Divorced' 'Married-spouse-absent'\n",
            " 'Separated' 'Married-AF-spouse' 'Widowed']\n",
            "occupation: ['Adm-clerical' 'Exec-managerial' 'Handlers-cleaners' 'Prof-specialty'\n",
            " 'Other-service' 'Sales' 'Transport-moving' 'Farming-fishing'\n",
            " 'Machine-op-inspct' 'Tech-support' 'Craft-repair' 'Protective-serv'\n",
            " 'Armed-Forces' 'Priv-house-serv']\n",
            "relationship: ['Not-in-family' 'Husband' 'Wife' 'Own-child' 'Unmarried' 'Other-relative']\n",
            "race: ['White' 'Black' 'Asian-Pac-Islander' 'Amer-Indian-Eskimo' 'Other']\n",
            "sex: ['Male' 'Female']\n",
            "capital-gain: [ 2174     0 14084  5178  5013  2407 14344 15024  7688  4064  4386  7298\n",
            "  1409  3674  1055  2050  2176   594 20051  6849  4101  8614  3411  2597\n",
            " 25236  4650  2463  3103 10605  2964  3325  2580  3471  4865 99999  6514\n",
            "  1471  2329  2105  2885 10520  2202  2961 27828  6767  2228  1506 13550\n",
            "  2635  5556  4787  3781  3137  3818   914   401  2829  2977  4934  2062\n",
            "  2354  3464  5455 15020  1424  3273 22040  4416 10566  4931  7430 34095\n",
            "  6497  3908   114  2346  2907  1151  9386  2414  2290  3418 15831 41310\n",
            "  4508  2538  3456  1848  3887  7896  5721  9562  6418  1455  2036  3942\n",
            "  1831 11678  2936  2993  7443  6360  4687  1797  6723  2009  3432  6097\n",
            "  1639  2653 18481 25124  7978   991  1173  2387  5060  1086  1264  7262\n",
            "  1731]\n",
            "capital-loss: [   0 2042 1408 1902 1887 1719 1762 1564 2179 1816 1980 1977 1876 1340\n",
            " 2206 1741 1485 2339 2415 1380 1721 2051 2377 1669 2352 1672  653 2392\n",
            " 1504 1590 1651 1628 1848 2001 1740 2002 1579 2258 1602 2547 2205 1726\n",
            " 2444 1138 2238  625  213 1539  880 1668 1092 1594 2231 1844  810 2824\n",
            " 2559 2057 1573 1974  974 2174 2149 1735 1258 2603 2282  323 2246 1617\n",
            " 1648 1825 3770 1755 3683 2129 4356 2267 2080 2457  419  155 3900 2201\n",
            " 1944 2467 2754 2472 3004 1411 1429 3175 1870 1911 1510 1421 2163]\n",
            "hours-per-week: [40 13 16 45 50 80 30 35 60 20 52 44 15 25 43 38 55 48 58 32 70 22 56 41\n",
            " 28 36 24 46  2 42 12 65  1 34 75 98 33 54 10  6 64 19 18 72  8  9 47 37\n",
            " 21 26 14  5  7 99 53 39 62 59 57 78 90 66 11 49 84 17 68  3 27 85 31 51\n",
            " 77 63 23  4 87 88 73 89 97 94 29 96 67 82 86 91 81 76 92 61 74 95 79 69]\n",
            "native-country: ['United-States' 'Cuba' 'Jamaica' 'India' 'Mexico' 'Puerto-Rico'\n",
            " 'Honduras' 'England' 'Canada' 'Germany' 'Iran' 'Philippines' 'Poland'\n",
            " 'Columbia' 'Cambodia' 'Thailand' 'Ecuador' 'Laos' 'Taiwan' 'Haiti'\n",
            " 'Portugal' 'Dominican-Republic' 'El-Salvador' 'France' 'Guatemala'\n",
            " 'Italy' 'China' 'South' 'Japan' 'Yugoslavia' 'Peru'\n",
            " 'Outlying-US(Guam-USVI-etc)' 'Scotland' 'Trinadad&Tobago' 'Greece'\n",
            " 'Nicaragua' 'Vietnam' 'Hong' 'Ireland' 'Hungary' 'Holand-Netherlands']\n",
            "income: ['<=50K' '>50K']\n"
          ]
        }
      ]
    },
    {
      "cell_type": "code",
      "source": [
        "# Remove the period from income categories\n",
        "df['income'] = df['income'].str.strip('.')"
      ],
      "metadata": {
        "id": "avThs1hbz8rw"
      },
      "execution_count": null,
      "outputs": []
    },
    {
      "cell_type": "code",
      "source": [
        "# Set the style of seaborn\n",
        "sns.set(style=\"whitegrid\")\n",
        "\n",
        "# 1. Histograms\n",
        "def plot_histograms(df):\n",
        "    numerical_cols = df.select_dtypes(include=['int64', 'float64']).columns\n",
        "    for col in numerical_cols:\n",
        "        plt.figure(figsize=(8, 6))\n",
        "        sns.histplot(df[col], kde=True)\n",
        "        plt.title(f'Histogram of {col}')\n",
        "        plt.xlabel(col)\n",
        "        plt.ylabel('Frequency')\n",
        "        plt.show()\n",
        "\n",
        "# 2. Bar Plots\n",
        "def plot_barplots(df):\n",
        "    categorical_cols = df.select_dtypes(include=['object']).columns\n",
        "    for col in categorical_cols:\n",
        "        plt.figure(figsize=(8, 6))\n",
        "        sns.countplot(data=df, x=col)\n",
        "        plt.title(f'Bar Plot of {col}')\n",
        "        plt.xlabel(col)\n",
        "        plt.ylabel('Count')\n",
        "        plt.xticks(rotation=45)\n",
        "        plt.show()\n",
        "\n",
        "# 3. Box Plots\n",
        "def plot_boxplots(df):\n",
        "    numerical_cols = df.select_dtypes(include=['int64', 'float64']).columns\n",
        "    for col in numerical_cols:\n",
        "        plt.figure(figsize=(8, 6))\n",
        "        sns.boxplot(data=df, y=col)\n",
        "        plt.title(f'Box Plot of {col}')\n",
        "        plt.ylabel(col)\n",
        "        plt.show()"
      ],
      "metadata": {
        "id": "5df5iL0O1qgK"
      },
      "execution_count": null,
      "outputs": []
    },
    {
      "cell_type": "code",
      "source": [
        "plot_histograms(df)"
      ],
      "metadata": {
        "id": "JIU1S2BrEoA5"
      },
      "execution_count": null,
      "outputs": []
    },
    {
      "cell_type": "code",
      "source": [
        "plot_barplots(df)"
      ],
      "metadata": {
        "id": "AvRzTQGtEqp9"
      },
      "execution_count": null,
      "outputs": []
    },
    {
      "cell_type": "code",
      "source": [
        "plot_boxplots(df)"
      ],
      "metadata": {
        "id": "btSYOuy6Eta3"
      },
      "execution_count": null,
      "outputs": []
    },
    {
      "cell_type": "code",
      "source": [
        "df.to_csv(\"cleaned_adult_data.csv\", index=False)"
      ],
      "metadata": {
        "id": "TYULo8ptFlTv"
      },
      "execution_count": null,
      "outputs": []
    },
    {
      "cell_type": "code",
      "source": [
        "from sklearn.model_selection import train_test_split\n",
        "from sklearn.metrics import accuracy_score"
      ],
      "metadata": {
        "id": "4yRuuRr-BJ-2"
      },
      "execution_count": 1,
      "outputs": []
    },
    {
      "cell_type": "code",
      "source": [
        "# Load the cleaned dataset\n",
        "df = pd.read_csv(\"cleaned_adult_data.csv\")\n",
        "\n",
        "# Split the dataset into features (X) and target variable (y)\n",
        "X = df.drop(columns=['income'])  # Features\n",
        "y = df['income']  # Target variable\n",
        "\n",
        "X_encoded = pd.get_dummies(X)\n",
        "\n",
        "# Split the dataset into training and testing sets\n",
        "X_train, X_test, y_train, y_test = train_test_split(X_encoded, y, test_size=0.3, random_state=1)"
      ],
      "metadata": {
        "id": "B8og68_LGEr-"
      },
      "execution_count": 4,
      "outputs": []
    },
    {
      "cell_type": "code",
      "source": [
        "from sklearn.naive_bayes import GaussianNB\n",
        "\n",
        "# Initialize the Naive Bayes classifier\n",
        "naive_bayes = GaussianNB()\n",
        "\n",
        "# Train the classifier on the training data\n",
        "naive_bayes.fit(X_train, y_train)\n",
        "\n",
        "# Make predictions on the testing data\n",
        "y_pred = naive_bayes.predict(X_test)\n",
        "\n",
        "# Evaluate the model's accuracy\n",
        "accuracy = accuracy_score(y_test, y_pred)\n",
        "print(\"Accuracy:\", accuracy)"
      ],
      "metadata": {
        "colab": {
          "base_uri": "https://localhost:8080/"
        },
        "id": "EuCHjw4rBZ6G",
        "outputId": "39e9b021-985f-4686-8c3f-8828a135bf74"
      },
      "execution_count": 5,
      "outputs": [
        {
          "output_type": "stream",
          "name": "stdout",
          "text": [
            "Accuracy: 0.7915530330950099\n"
          ]
        }
      ]
    },
    {
      "cell_type": "code",
      "source": [
        "from sklearn.ensemble import RandomForestClassifier\n",
        "\n",
        "# Initialize the Random Forest classifier\n",
        "random_forest = RandomForestClassifier(random_state=1)\n",
        "\n",
        "# Train the classifier on the training data\n",
        "random_forest.fit(X_train, y_train)\n",
        "\n",
        "# Make predictions on the testing data\n",
        "y_pred = random_forest.predict(X_test)\n",
        "\n",
        "# Evaluate the model's accuracy\n",
        "accuracy = accuracy_score(y_test, y_pred)\n",
        "print(\"Accuracy:\", accuracy)"
      ],
      "metadata": {
        "colab": {
          "base_uri": "https://localhost:8080/"
        },
        "id": "WICRQrSrBHsw",
        "outputId": "fe6f91a4-0a42-488f-912b-252796570b7a"
      },
      "execution_count": 6,
      "outputs": [
        {
          "output_type": "stream",
          "name": "stdout",
          "text": [
            "Accuracy: 0.8495614358369573\n"
          ]
        }
      ]
    },
    {
      "cell_type": "code",
      "source": [
        "from sklearn.metrics import classification_report, confusion_matrix\n",
        "\n",
        "# Predictions for Naive Bayes\n",
        "nb_predictions = naive_bayes.predict(X_test)\n",
        "\n",
        "# Predictions for Random Forest\n",
        "rf_predictions = random_forest.predict(X_test)\n",
        "\n",
        "# Naive Bayes model evaluation\n",
        "print(\"Evaluation Metrics for Naive Bayes:\")\n",
        "nb_report = classification_report(y_test, nb_predictions)\n",
        "print(nb_report)\n",
        "\n",
        "nb_conf_matrix = confusion_matrix(y_test, nb_predictions)\n",
        "print(\"Confusion Matrix for Naive Bayes:\")\n",
        "print(nb_conf_matrix)\n",
        "\n",
        "# Random Forest model evaluation\n",
        "print(\"\\nEvaluation Metrics for Random Forest:\")\n",
        "rf_report = classification_report(y_test, rf_predictions)\n",
        "print(rf_report)\n",
        "\n",
        "rf_conf_matrix = confusion_matrix(y_test, rf_predictions)\n",
        "print(\"Confusion Matrix for Random Forest:\")\n",
        "print(rf_conf_matrix)"
      ],
      "metadata": {
        "colab": {
          "base_uri": "https://localhost:8080/"
        },
        "id": "YhjGqSHaBzGn",
        "outputId": "006b2e62-07d8-4a04-99af-9306ace66963"
      },
      "execution_count": 7,
      "outputs": [
        {
          "output_type": "stream",
          "name": "stdout",
          "text": [
            "Evaluation Metrics for Naive Bayes:\n",
            "              precision    recall  f1-score   support\n",
            "\n",
            "       <=50K       0.81      0.95      0.87     10230\n",
            "        >50K       0.66      0.31      0.42      3337\n",
            "\n",
            "    accuracy                           0.79     13567\n",
            "   macro avg       0.73      0.63      0.65     13567\n",
            "weighted avg       0.77      0.79      0.76     13567\n",
            "\n",
            "Confusion Matrix for Naive Bayes:\n",
            "[[9695  535]\n",
            " [2293 1044]]\n",
            "\n",
            "Evaluation Metrics for Random Forest:\n",
            "              precision    recall  f1-score   support\n",
            "\n",
            "       <=50K       0.88      0.92      0.90     10230\n",
            "        >50K       0.73      0.62      0.67      3337\n",
            "\n",
            "    accuracy                           0.85     13567\n",
            "   macro avg       0.80      0.77      0.79     13567\n",
            "weighted avg       0.84      0.85      0.85     13567\n",
            "\n",
            "Confusion Matrix for Random Forest:\n",
            "[[9452  778]\n",
            " [1263 2074]]\n"
          ]
        }
      ]
    },
    {
      "cell_type": "code",
      "source": [
        "class_counts = df['income'].value_counts()\n",
        "class_proportions = class_counts / class_counts.sum()\n",
        "print(class_proportions)"
      ],
      "metadata": {
        "colab": {
          "base_uri": "https://localhost:8080/"
        },
        "id": "wy-A3BH9dv7J",
        "outputId": "a08b998c-3367-4ea2-f9fd-41db89b364c9"
      },
      "execution_count": 8,
      "outputs": [
        {
          "output_type": "stream",
          "name": "stdout",
          "text": [
            "<=50K    0.752156\n",
            ">50K     0.247844\n",
            "Name: income, dtype: float64\n"
          ]
        }
      ]
    },
    {
      "cell_type": "code",
      "source": [
        "from imblearn.over_sampling import SMOTE\n",
        "\n",
        "# Apply SMOTE to balance the classes\n",
        "smote = SMOTE(random_state=1)\n",
        "X_oversampled, y_oversampled = smote.fit_resample(X_encoded, y)\n",
        "\n",
        "# Split the resampled dataset into training and testing sets\n",
        "X_train_oversampled, X_test_oversampled, y_train_oversampled, y_test_oversampled = train_test_split(X_oversampled, y_oversampled, test_size=0.3, random_state=1)\n",
        "\n",
        "# Convert the oversampled features and target arrays into DataFrame\n",
        "df = pd.DataFrame(X_oversampled, columns=X_encoded.columns)\n",
        "df['income'] = y_oversampled"
      ],
      "metadata": {
        "id": "UCEsEMfbCaet"
      },
      "execution_count": 9,
      "outputs": []
    },
    {
      "cell_type": "code",
      "source": [
        "class_counts = df['income'].value_counts()\n",
        "class_proportions = class_counts / class_counts.sum()\n",
        "print(class_proportions)"
      ],
      "metadata": {
        "id": "-hqk_fr1N3Tt",
        "colab": {
          "base_uri": "https://localhost:8080/"
        },
        "outputId": "28ad3c7f-067f-4b24-917f-7e71a8e3933c"
      },
      "execution_count": 10,
      "outputs": [
        {
          "output_type": "stream",
          "name": "stdout",
          "text": [
            "<=50K    0.5\n",
            ">50K     0.5\n",
            "Name: income, dtype: float64\n"
          ]
        }
      ]
    },
    {
      "cell_type": "code",
      "source": [
        "# Initialize the Naive Bayes classifier\n",
        "naive_bayes = GaussianNB()\n",
        "\n",
        "# Train the classifier on the resampled training data\n",
        "naive_bayes.fit(X_train_oversampled, y_train_oversampled)\n",
        "\n",
        "# Make predictions on the testing data\n",
        "y_pred_oversampled = naive_bayes.predict(X_test_oversampled)\n",
        "\n",
        "# Evaluate the model's accuracy\n",
        "accuracy = accuracy_score(y_test_oversampled, y_pred_oversampled)\n",
        "print(\"Accuracy:\", accuracy)"
      ],
      "metadata": {
        "colab": {
          "base_uri": "https://localhost:8080/"
        },
        "id": "zdByZB_weTuP",
        "outputId": "0345ac2e-31bd-4fc9-8700-61cee20c9b8d"
      },
      "execution_count": 11,
      "outputs": [
        {
          "output_type": "stream",
          "name": "stdout",
          "text": [
            "Accuracy: 0.6225194767014552\n"
          ]
        }
      ]
    },
    {
      "cell_type": "code",
      "source": [
        "# Initialize the Random Forest classifier\n",
        "random_forest = RandomForestClassifier(random_state=1)\n",
        "\n",
        "# Train the classifier on the resampled training data\n",
        "random_forest.fit(X_train_oversampled, y_train_oversampled)\n",
        "\n",
        "# Make predictions on the testing data\n",
        "y_pred_oversampled = random_forest.predict(X_test_oversampled)\n",
        "\n",
        "# Evaluate the model's accuracy\n",
        "accuracy = accuracy_score(y_test_oversampled, y_pred_oversampled)\n",
        "print(\"Accuracy:\", accuracy)"
      ],
      "metadata": {
        "colab": {
          "base_uri": "https://localhost:8080/"
        },
        "id": "45Y7bB23fKr6",
        "outputId": "882a5c6f-cc20-4c5d-bb54-e1da51ddee96"
      },
      "execution_count": 12,
      "outputs": [
        {
          "output_type": "stream",
          "name": "stdout",
          "text": [
            "Accuracy: 0.896271252878632\n"
          ]
        }
      ]
    },
    {
      "cell_type": "code",
      "source": [
        "from sklearn.metrics import classification_report, confusion_matrix\n",
        "\n",
        "# Predictions for Naive Bayes\n",
        "nb_predictions = naive_bayes.predict(X_test_oversampled)\n",
        "\n",
        "# Predictions for Random Forest\n",
        "rf_predictions = random_forest.predict(X_test_oversampled)\n",
        "\n",
        "# Naive Bayes model evaluation\n",
        "print(\"Evaluation Metrics for Naive Bayes:\")\n",
        "nb_report = classification_report(y_test_oversampled, nb_predictions)\n",
        "print(nb_report)\n",
        "\n",
        "nb_conf_matrix = confusion_matrix(y_test_oversampled, nb_predictions)\n",
        "print(\"Confusion Matrix for Naive Bayes:\")\n",
        "print(nb_conf_matrix)\n",
        "\n",
        "# Random Forest model evaluation\n",
        "print(\"\\nEvaluation Metrics for Random Forest:\")\n",
        "rf_report = classification_report(y_test_oversampled, rf_predictions)\n",
        "print(rf_report)\n",
        "\n",
        "rf_conf_matrix = confusion_matrix(y_test_oversampled, rf_predictions)\n",
        "print(\"Confusion Matrix for Random Forest:\")\n",
        "print(rf_conf_matrix)"
      ],
      "metadata": {
        "colab": {
          "base_uri": "https://localhost:8080/"
        },
        "id": "Zeum6tRnjckX",
        "outputId": "22f3bbdf-aee9-486f-f7f7-45e40fbd081b"
      },
      "execution_count": 13,
      "outputs": [
        {
          "output_type": "stream",
          "name": "stdout",
          "text": [
            "Evaluation Metrics for Naive Bayes:\n",
            "              precision    recall  f1-score   support\n",
            "\n",
            "       <=50K       0.58      0.94      0.72     10256\n",
            "        >50K       0.84      0.30      0.44     10153\n",
            "\n",
            "    accuracy                           0.62     20409\n",
            "   macro avg       0.71      0.62      0.58     20409\n",
            "weighted avg       0.71      0.62      0.58     20409\n",
            "\n",
            "Confusion Matrix for Naive Bayes:\n",
            "[[9685  571]\n",
            " [7133 3020]]\n",
            "\n",
            "Evaluation Metrics for Random Forest:\n",
            "              precision    recall  f1-score   support\n",
            "\n",
            "       <=50K       0.89      0.91      0.90     10256\n",
            "        >50K       0.91      0.88      0.89     10153\n",
            "\n",
            "    accuracy                           0.90     20409\n",
            "   macro avg       0.90      0.90      0.90     20409\n",
            "weighted avg       0.90      0.90      0.90     20409\n",
            "\n",
            "Confusion Matrix for Random Forest:\n",
            "[[9343  913]\n",
            " [1204 8949]]\n"
          ]
        }
      ]
    },
    {
      "cell_type": "code",
      "source": [
        "from sklearn.metrics import roc_curve, roc_auc_score\n",
        "import matplotlib.pyplot as plt\n",
        "\n",
        "# Convert categorical labels to binary labels\n",
        "y_test_binary = y_test_oversampled.replace({'<=50K': 0, '>50K': 1})\n",
        "\n",
        "# Compute probabilities for Naive Bayes and Random Forest\n",
        "nb_probs = naive_bayes.predict_proba(X_test_oversampled)[:, 1]\n",
        "rf_probs = random_forest.predict_proba(X_test_oversampled)[:, 1]\n",
        "\n",
        "# Compute ROC curve and ROC area for Naive Bayes\n",
        "nb_fpr, nb_tpr, _ = roc_curve(y_test_binary, nb_probs)\n",
        "nb_auc = roc_auc_score(y_test_binary, nb_probs)\n",
        "\n",
        "# Compute ROC curve and ROC area for Random Forest\n",
        "rf_fpr, rf_tpr, _ = roc_curve(y_test_binary, rf_probs)\n",
        "rf_auc = roc_auc_score(y_test_binary, rf_probs)\n",
        "\n",
        "# Plot ROC curves\n",
        "plt.figure(figsize=(8, 6))\n",
        "plt.plot(nb_fpr, nb_tpr, label=f'Naive Bayes (AUC = {nb_auc:.2f})')\n",
        "plt.plot(rf_fpr, rf_tpr, label=f'Random Forest (AUC = {rf_auc:.2f})')\n",
        "plt.plot([0, 1], [0, 1], 'k--', label='Random Guess')\n",
        "plt.xlabel('False Positive Rate')\n",
        "plt.ylabel('True Positive Rate')\n",
        "plt.title('ROC Curves')\n",
        "plt.legend(loc='lower right')\n",
        "plt.grid(True)\n",
        "plt.show()"
      ],
      "metadata": {
        "id": "QIRqrIde_c_3",
        "colab": {
          "base_uri": "https://localhost:8080/",
          "height": 564
        },
        "outputId": "55960724-9bd6-44d0-a48f-2d318f64fdd9"
      },
      "execution_count": 16,
      "outputs": [
        {
          "output_type": "display_data",
          "data": {
            "text/plain": [
              "<Figure size 800x600 with 1 Axes>"
            ],
            "image/png": "[encoded data removed]"
          },
          "metadata": {}
        }
      ]
    },
    {
      "cell_type": "code",
      "source": [],
      "metadata": {
        "id": "krExb6JEW9_N"
      },
      "execution_count": null,
      "outputs": []
    }
  ]
}